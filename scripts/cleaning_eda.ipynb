{
 "cells": [
  {
   "cell_type": "markdown",
   "id": "cd8a286f",
   "metadata": {},
   "source": [
    "# X/Twitter Cleaning"
   ]
  },
  {
   "cell_type": "code",
   "execution_count": 9,
   "id": "f886169a",
   "metadata": {},
   "outputs": [],
   "source": [
    "import json\n",
    "import csv\n",
    "import os\n",
    "import re\n",
    "\n",
    "def clean_text(text):\n",
    "    \"\"\"Clean text by removing unusual line terminators and normalizing whitespace\"\"\"\n",
    "    if not isinstance(text, str):\n",
    "        return text\n",
    "    \n",
    "    # Remove Line Separator (LS) and Paragraph Separator (PS) characters\n",
    "    text = text.replace('\\u2028', ' ')  # Line Separator\n",
    "    text = text.replace('\\u2029', ' ')  # Paragraph Separator\n",
    "    \n",
    "    # Remove other unusual whitespace characters\n",
    "    text = text.replace('\\u00A0', ' ')  # Non-breaking space\n",
    "    text = text.replace('\\u2000', ' ')  # En quad\n",
    "    text = text.replace('\\u2001', ' ')  # Em quad\n",
    "    text = text.replace('\\u2002', ' ')  # En space\n",
    "    text = text.replace('\\u2003', ' ')  # Em space\n",
    "    text = text.replace('\\u2004', ' ')  # Three-per-em space\n",
    "    text = text.replace('\\u2005', ' ')  # Four-per-em space\n",
    "    text = text.replace('\\u2006', ' ')  # Six-per-em space\n",
    "    text = text.replace('\\u2007', ' ')  # Figure space\n",
    "    text = text.replace('\\u2008', ' ')  # Punctuation space\n",
    "    text = text.replace('\\u2009', ' ')  # Thin space\n",
    "    text = text.replace('\\u200A', ' ')  # Hair space\n",
    "    text = text.replace('\\u200B', '')   # Zero width space\n",
    "    text = text.replace('\\u200C', '')   # Zero width non-joiner\n",
    "    text = text.replace('\\u200D', '')   # Zero width joiner\n",
    "    text = text.replace('\\u2060', '')   # Word joiner\n",
    "    \n",
    "    # Normalize multiple spaces to single space\n",
    "    text = re.sub(r'\\s+', ' ', text)\n",
    "    \n",
    "    # Strip leading/trailing whitespace\n",
    "    text = text.strip()\n",
    "    \n",
    "    return text"
   ]
  },
  {
   "cell_type": "code",
   "execution_count": 10,
   "id": "f4e9067a",
   "metadata": {},
   "outputs": [
    {
     "name": "stdout",
     "output_type": "stream",
     "text": [
      "Original dataset shape: (38553, 17)\n",
      "Columns: ['symbol', 'tweet_id', 'text', 'created_at', 'user_id', 'username', 'user_name', 'retweet_count', 'like_count', 'reply_count', 'quote_count', 'view_count', 'is_reply', 'conversation_id', 'url', 'lang', 'search_date']\n"
     ]
    }
   ],
   "source": [
    "import pandas as pd\n",
    "\n",
    "# Read the dataset\n",
    "df = pd.read_csv('../data/AAPL/AAPL_tweets_2020-10-01_2025-10-01.csv')\n",
    "\n",
    "print(f\"Original dataset shape: {df.shape}\")\n",
    "print(f\"Columns: {df.columns.tolist()}\")\n"
   ]
  },
  {
   "cell_type": "code",
   "execution_count": 11,
   "id": "98cdcf04",
   "metadata": {},
   "outputs": [
    {
     "name": "stdout",
     "output_type": "stream",
     "text": [
      "Cleaning text column...\n",
      "Cleaning completed!\n"
     ]
    }
   ],
   "source": [
    "# Apply the cleaning function to the text column\n",
    "print(\"Cleaning text column...\")\n",
    "df['text_cleaned'] = df['text'].apply(clean_text)\n",
    "print(\"Cleaning completed!\")"
   ]
  },
  {
   "cell_type": "code",
   "execution_count": 12,
   "id": "15081273",
   "metadata": {},
   "outputs": [
    {
     "name": "stdout",
     "output_type": "stream",
     "text": [
      "Cleaned dataset saved to: ../data/AAPL/AAPL_tweets_clean.csv\n",
      "Final columns: ['created_at', 'text', 'like_count', 'retweet_count']\n",
      "File size: 7.43 MB\n"
     ]
    }
   ],
   "source": [
    "# Replace the original text column with the cleaned version\n",
    "df['text'] = df['text_cleaned']\n",
    "\n",
    "# Drop the temporary 'text_cleaned' column\n",
    "df = df.drop('text_cleaned', axis=1)\n",
    "\n",
    "# Keep only the specified columns\n",
    "df = df[['created_at', 'text', 'like_count', 'retweet_count']]\n",
    "\n",
    "# Save the cleaned and filtered dataset\n",
    "output_path = '../data/AAPL/AAPL_tweets_clean.csv'\n",
    "df.to_csv(output_path, index=False)\n",
    "\n",
    "print(f\"Cleaned dataset saved to: {output_path}\")\n",
    "print(f\"Final columns: {df.columns.tolist()}\")\n",
    "print(f\"File size: {os.path.getsize(output_path) / (1024*1024):.2f} MB\")\n"
   ]
  },
  {
   "cell_type": "markdown",
   "id": "f3717b34",
   "metadata": {},
   "source": [
    "# Stock Market CSV Cleaning"
   ]
  },
  {
   "cell_type": "code",
   "execution_count": 13,
   "id": "55fd0e96",
   "metadata": {},
   "outputs": [
    {
     "name": "stdout",
     "output_type": "stream",
     "text": [
      "Original market data shape: (1254, 6)\n",
      "Original market data columns: ['Date', 'Close', 'High', 'Low', 'Open', 'Volume']\n",
      "Cleaned market dataset saved to: ../data/AAPL/AAPL_market_clean.csv\n",
      "Final market data columns: ['date', 'open', 'close']\n",
      "Market data file size: 0.06 MB\n"
     ]
    }
   ],
   "source": [
    "# Load the stock market data\n",
    "market_df = pd.read_csv('../data/AAPL/AAPL_2020-10-17_2025-10-16.csv')\n",
    "\n",
    "print(f\"Original market data shape: {market_df.shape}\")\n",
    "print(f\"Original market data columns: {market_df.columns.tolist()}\")\n",
    "\n",
    "# Keep only the specified columns\n",
    "market_df = market_df[['Date', 'Open', 'Close']]\n",
    "\n",
    "# Convert column headers to lowercase\n",
    "market_df.columns = market_df.columns.str.lower()\n",
    "\n",
    "# Save the cleaned market dataset\n",
    "market_output_path = '../data/AAPL/AAPL_market_clean.csv'\n",
    "market_df.to_csv(market_output_path, index=False)\n",
    "\n",
    "print(f\"Cleaned market dataset saved to: {market_output_path}\")\n",
    "print(f\"Final market data columns: {market_df.columns.tolist()}\")\n",
    "print(f\"Market data file size: {os.path.getsize(market_output_path) / (1024*1024):.2f} MB\")"
   ]
  },
  {
   "cell_type": "code",
   "execution_count": null,
   "id": "40d6ad24",
   "metadata": {},
   "outputs": [],
   "source": []
  }
 ],
 "metadata": {
  "kernelspec": {
   "display_name": "Python 3",
   "language": "python",
   "name": "python3"
  },
  "language_info": {
   "codemirror_mode": {
    "name": "ipython",
    "version": 3
   },
   "file_extension": ".py",
   "mimetype": "text/x-python",
   "name": "python",
   "nbconvert_exporter": "python",
   "pygments_lexer": "ipython3",
   "version": "3.12.3"
  }
 },
 "nbformat": 4,
 "nbformat_minor": 5
}
