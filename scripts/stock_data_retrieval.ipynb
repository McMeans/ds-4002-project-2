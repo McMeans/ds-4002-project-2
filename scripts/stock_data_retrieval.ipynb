{
 "cells": [
  {
   "cell_type": "code",
   "execution_count": 5,
   "id": "21979532",
   "metadata": {
    "vscode": {
     "languageId": "shellscript"
    }
   },
   "outputs": [],
   "source": [
    "# install yfinance (no output printed)\n",
    "!pip install yfinance > /dev/null 2>&1"
   ]
  },
  {
   "cell_type": "code",
   "execution_count": 6,
   "id": "423d0f61",
   "metadata": {},
   "outputs": [],
   "source": [
    "# IMPORTS\n",
    "import yfinance as yf\n",
    "import datetime\n",
    "import os\n",
    "import pandas as pd"
   ]
  },
  {
   "cell_type": "code",
   "execution_count": 7,
   "id": "bf294a2a",
   "metadata": {},
   "outputs": [],
   "source": [
    "# ---- CONFIGURATION ----\n",
    "# symbols = [\"AAPL\", \"MSFT\", \"NVDA\"]  # Stock tickers to search for\n",
    "symbols = [\"AAPL\"]\n",
    "base_save_dir = \"../data/\"      # Directory to save  data\n",
    "start_date = datetime.datetime(2020, 10, 1)\n",
    "end_date = datetime.datetime(2025, 10, 1)\n",
    "# ------------------------"
   ]
  },
  {
   "cell_type": "code",
   "execution_count": 8,
   "id": "3cdf48de",
   "metadata": {},
   "outputs": [
    {
     "name": "stdout",
     "output_type": "stream",
     "text": [
      "Fetching AAPL...\n"
     ]
    },
    {
     "name": "stdout",
     "output_type": "stream",
     "text": [
      "✅ Saved AAPL data to ../data/AAPL/AAPL_2020-10-01 00:00:00_2025-10-01 00:00:00.csv\n",
      "Done.\n"
     ]
    }
   ],
   "source": [
    "os.makedirs(base_save_dir, exist_ok=True)\n",
    "\n",
    "for symbol in symbols:\n",
    "    symbol_save_dir = os.path.join(base_save_dir, symbol)\n",
    "    os.makedirs(symbol_save_dir, exist_ok=True) # Create a subdirectory for each symbol\n",
    "\n",
    "    print(f\"Fetching {symbol}...\")\n",
    "    data = yf.download(symbol, start=start_date, end=end_date, progress=False, auto_adjust=True)\n",
    "    \n",
    "    if not data.empty:\n",
    "        # Reset index to make Date a regular column\n",
    "        data = data.reset_index()\n",
    "        \n",
    "        # Handle MultiIndex columns properly\n",
    "        if isinstance(data.columns, pd.MultiIndex):\n",
    "            # For MultiIndex, extract just the first level (the actual column names)\n",
    "            data.columns = [col[0] if col[0] else col[1] for col in data.columns]\n",
    "        \n",
    "        # Rename 'Adj Close' to 'Price' for consistency (if it exists)\n",
    "        if 'Adj Close' in data.columns:\n",
    "            data = data.rename(columns={'Adj Close': 'Price'})\n",
    "        \n",
    "        # Reorder columns to match expected format: Date, Price, Close, High, Low, Open, Volume\n",
    "        # Create the desired column order, but only include columns that actually exist\n",
    "        desired_order = ['Date', 'Price', 'Close', 'High', 'Low', 'Open', 'Volume']\n",
    "        available_columns = [col for col in desired_order if col in data.columns]\n",
    "        data = data[available_columns]\n",
    "        \n",
    "        file_path = os.path.join(symbol_save_dir, f\"{symbol}_{start_date}_{end_date}.csv\")\n",
    "        data.to_csv(file_path, index=False)\n",
    "        print(f\"✅ Saved {symbol} data to {file_path}\")\n",
    "    else:\n",
    "        print(f\"⚠️ No data returned for {symbol}\")\n",
    "\n",
    "print(\"Done.\")"
   ]
  },
  {
   "cell_type": "code",
   "execution_count": null,
   "id": "d8840e11",
   "metadata": {},
   "outputs": [],
   "source": []
  }
 ],
 "metadata": {
  "kernelspec": {
   "display_name": "Python 3",
   "language": "python",
   "name": "python3"
  },
  "language_info": {
   "codemirror_mode": {
    "name": "ipython",
    "version": 3
   },
   "file_extension": ".py",
   "mimetype": "text/x-python",
   "name": "python",
   "nbconvert_exporter": "python",
   "pygments_lexer": "ipython3",
   "version": "3.12.3"
  }
 },
 "nbformat": 4,
 "nbformat_minor": 5
}
